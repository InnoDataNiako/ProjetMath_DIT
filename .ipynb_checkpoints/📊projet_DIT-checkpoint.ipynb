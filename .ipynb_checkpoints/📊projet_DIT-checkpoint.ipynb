{
 "cells": [
  {
   "cell_type": "code",
   "execution_count": 8,
   "id": "d5143399-4a3e-41f2-bc9f-dce15eb0891c",
   "metadata": {},
   "outputs": [
    {
     "name": "stdout",
     "output_type": "stream",
     "text": [
      "Bienvenue dans le Projet DIT - Dakar Institute of Technology\n",
      "\n",
      "=== Projet DIT : Calcul Matriciel ===\n",
      "1 - Calculer la transposée d'une matrice\n",
      "2 - Calculer le produit de deux matrices\n",
      "3 - Quitter\n"
     ]
    },
    {
     "name": "stdin",
     "output_type": "stream",
     "text": [
      "Votre choix (1-3) :  1\n"
     ]
    },
    {
     "name": "stdout",
     "output_type": "stream",
     "text": [
      "\n",
      "Saisie d'une matrice\n"
     ]
    },
    {
     "name": "stdin",
     "output_type": "stream",
     "text": [
      "Nombre de lignes :  2 \n",
      "Nombre de colonnes :  2\n"
     ]
    },
    {
     "name": "stdout",
     "output_type": "stream",
     "text": [
      "Saisir les 2x2 éléments (séparés par des espaces) :\n"
     ]
    },
    {
     "name": "stdin",
     "output_type": "stream",
     "text": [
      "Ligne 1 :  1 3\n",
      "Ligne 2 :  2 5\n"
     ]
    },
    {
     "name": "stdout",
     "output_type": "stream",
     "text": [
      "\n",
      "Matrice saisie :\n",
      "      1.00     3.00 \n",
      "      2.00     5.00 \n",
      "\n",
      "\n",
      "Calcul de la transposée :\n",
      "Matrice originale :\n",
      "      1.00     3.00 \n",
      "      2.00     5.00 \n",
      "\n",
      "Résultat final :\n",
      "      1.00     2.00 \n",
      "      3.00     5.00 \n",
      "\n",
      "\n",
      "=== Projet DIT : Calcul Matriciel ===\n",
      "1 - Calculer la transposée d'une matrice\n",
      "2 - Calculer le produit de deux matrices\n",
      "3 - Quitter\n"
     ]
    },
    {
     "name": "stdin",
     "output_type": "stream",
     "text": [
      "Votre choix (1-3) :  2\n",
      "Utiliser la matrice stockée comme première matrice ? (o/n) :  o\n"
     ]
    },
    {
     "name": "stdout",
     "output_type": "stream",
     "text": [
      "\n",
      "Saisie d'une matrice\n"
     ]
    },
    {
     "name": "stdin",
     "output_type": "stream",
     "text": [
      "Nombre de lignes :  2\n",
      "Nombre de colonnes :  2\n"
     ]
    },
    {
     "name": "stdout",
     "output_type": "stream",
     "text": [
      "Saisir les 2x2 éléments (séparés par des espaces) :\n"
     ]
    },
    {
     "name": "stdin",
     "output_type": "stream",
     "text": [
      "Ligne 1 :  1 5\n",
      "Ligne 2 :  3 7\n"
     ]
    },
    {
     "name": "stdout",
     "output_type": "stream",
     "text": [
      "\n",
      "Matrice saisie :\n",
      "      1.00     5.00 \n",
      "      3.00     7.00 \n",
      "\n",
      "\n",
      "Calcul du produit matriciel :\n",
      "Matrice A :\n",
      "      1.00     3.00 \n",
      "      2.00     5.00 \n",
      "\n",
      "Matrice B :\n",
      "      1.00     5.00 \n",
      "      3.00     7.00 \n",
      "\n",
      "Résultat final :\n",
      "     10.00    26.00 \n",
      "     17.00    45.00 \n",
      "\n",
      "\n",
      "=== Projet DIT : Calcul Matriciel ===\n",
      "1 - Calculer la transposée d'une matrice\n",
      "2 - Calculer le produit de deux matrices\n",
      "3 - Quitter\n"
     ]
    },
    {
     "name": "stdin",
     "output_type": "stream",
     "text": [
      "Votre choix (1-3) :  3\n"
     ]
    },
    {
     "name": "stdout",
     "output_type": "stream",
     "text": [
      "\n",
      "Programme terminé. Merci d'avoir utilisé Projet DIT.\n"
     ]
    }
   ],
   "source": [
    "def saisir_matrix():\n",
    "    \"\"\"Saisit une matrice avec validation complète des entrées.\"\"\"\n",
    "    while True:  # Boucle infinie pour permettre plusieurs tentatives en cas d'erreur\n",
    "        try:  # Débute un bloc try pour capturer les exceptions\n",
    "            print(\"\\nSaisie d'une matrice\")  # Affiche un titre pour indiquer le début de la saisie\n",
    "            n_input = input(\"Nombre de lignes : \").strip()  # Demande le nombre de lignes et supprime les espaces\n",
    "            if not n_input:  # Vérifie si l'entrée est vide\n",
    "                raise ValueError(\"Le nombre de lignes ne peut pas être vide\")  # Lève une erreur si vide\n",
    "            n = int(n_input)  # Convertit l'entrée en entier\n",
    "            \n",
    "            p_input = input(\"Nombre de colonnes : \").strip()  # Demande le nombre de colonnes et supprime les espaces\n",
    "            if not p_input:  # Vérifie si l'entrée est vide\n",
    "                raise ValueError(\"Le nombre de colonnes ne peut pas être vide\")  # Lève une erreur si vide\n",
    "            p = int(p_input)  # Convertit l'entrée en entier\n",
    "            \n",
    "            if n <= 0 or p <= 0:  # Vérifie si les dimensions sont positives\n",
    "                raise ValueError(\"Les dimensions doivent être positives\")  # Lève une erreur si négatives ou nulles\n",
    "\n",
    "            print(f\"Saisir les {n}x{p} éléments (séparés par des espaces) :\")  # Invite à entrer les éléments\n",
    "            elements = []  # Initialise une liste vide pour stocker les lignes de la matrice\n",
    "            for i in range(n):  # Boucle sur le nombre de lignes\n",
    "                ligne_input = input(f\"Ligne {i+1} : \").strip()  # Demande la i+1ème ligne et supprime les espaces\n",
    "                if not ligne_input:  # Vérifie si la ligne est vide\n",
    "                    raise ValueError(\"La ligne ne peut pas être vide\")  # Lève une erreur si vide\n",
    "                ligne = ligne_input.split()  # Sépare la ligne en une liste de chaînes (par espaces)\n",
    "                if len(ligne) != p:  # Vérifie si le nombre d'éléments correspond au nombre de colonnes\n",
    "                    raise ValueError(f\"Exactement {p} valeurs requises par ligne\")  # Lève une erreur si incorrect\n",
    "                elements.append([float(x) for x in ligne])  # Convertit chaque élément en float et ajoute la ligne\n",
    "            \n",
    "            print(\"\\nMatrice saisie :\")  # Affiche un titre pour la matrice saisie\n",
    "            print_matrix(elements)  # Affiche la matrice saisie\n",
    "            return elements  # Retourne la matrice sous forme de liste de listes\n",
    "            \n",
    "        except ValueError as e:  # Capture les erreurs de type ValueError\n",
    "            print(f\"Erreur : {e}. Veuillez recommencer.\")  # Affiche le message d'erreur\n",
    "        except KeyboardInterrupt:  # Capture une interruption par l'utilisateur (Ctrl+C)\n",
    "            print(\"\\nSaisie interrompue. Retour au menu principal.\")  # Informe de l'interruption\n",
    "            return None  # Retourne None pour indiquer une interruption\n",
    "\n",
    "def print_matrix(M):\n",
    "    \"\"\"Affiche une matrice avec un format aligné.\"\"\"\n",
    "    for row in M:  # Boucle sur chaque ligne de la matrice\n",
    "        print(\"  \", end=\"\")  # Ajoute un décalage de 2 espaces au début de la ligne\n",
    "        for val in row:  # Boucle sur chaque valeur de la ligne\n",
    "            print(f\"{val:8.2f}\", end=\" \")  # Affiche la valeur avec 8 caractères, 2 décimales, suivi d'un espace\n",
    "        print()  # Passe à la ligne suivante après chaque ligne\n",
    "    print()  # Ajoute une ligne vide après l'affichage complet\n",
    "\n",
    "def Transpose_matrix(A):\n",
    "    \"\"\"Retourne la transposée d'une matrice manuellement.\"\"\"\n",
    "    n = len(A)  # Nombre de lignes de A\n",
    "    p = len(A[0])  # Nombre de colonnes de A (suppose que toutes les lignes ont la même longueur)\n",
    "    \n",
    "    # Crée une matrice vide pour la transposée (p lignes, n colonnes)\n",
    "    T = [[0 for _ in range(n)] for _ in range(p)]  # Initialise avec des zéros\n",
    "    for i in range(n):  # Boucle sur les lignes de A\n",
    "        for j in range(p):  # Boucle sur les colonnes de A\n",
    "            T[j][i] = A[i][j]  # Inverse les indices pour transposer\n",
    "    \n",
    "    print(\"\\nCalcul de la transposée :\")  # Affiche un titre pour l'opération\n",
    "    print(\"Matrice originale :\")  # Affiche un sous-titre pour la matrice de départ\n",
    "    print_matrix(A)  # Affiche la matrice originale\n",
    "    print(\"Résultat final :\")  # Affiche un sous-titre pour le résultat\n",
    "    print_matrix(T)  # Affiche la matrice transposée\n",
    "    return T  # Retourne la matrice transposée\n",
    "\n",
    "def Produit_matrix(A, B):\n",
    "    \"\"\"Calcule le produit de deux matrices manuellement avec la formule cij = Σ(aik*bkj).\"\"\"\n",
    "    n = len(A)  # Nombre de lignes de A\n",
    "    p = len(A[0])  # Nombre de colonnes de A\n",
    "    p2 = len(B)  # Nombre de lignes de B\n",
    "    m = len(B[0])  # Nombre de colonnes de B\n",
    "    \n",
    "    if p != p2:  # Vérifie si le produit est possible (colonnes de A = lignes de B)\n",
    "        print(\"Erreur : Les dimensions des matrices ne permettent pas la multiplication.\")  # Affiche une erreur\n",
    "        return None  # Retourne None si le produit est impossible\n",
    "    \n",
    "    # Crée une matrice vide pour le résultat (n lignes, m colonnes)\n",
    "    C = [[0 for _ in range(m)] for _ in range(n)]  # Initialise avec des zéros\n",
    "    for i in range(n):  # Boucle sur les lignes de la matrice résultat\n",
    "        for j in range(m):  # Boucle sur les colonnes de la matrice résultat\n",
    "            for k in range(p):  # Boucle sur les éléments à multiplier (formule cij)\n",
    "                C[i][j] += A[i][k] * B[k][j]  # Applique la formule cij = Σ(aik * bkj)\n",
    "    \n",
    "    print(\"\\nCalcul du produit matriciel :\")  # Affiche un titre pour l'opération\n",
    "    print(\"Matrice A :\")  # Affiche un sous-titre pour la première matrice\n",
    "    print_matrix(A)  # Affiche la matrice A\n",
    "    print(\"Matrice B :\")  # Affiche un sous-titre pour la deuxième matrice\n",
    "    print_matrix(B)  # Affiche la matrice B\n",
    "    print(\"Résultat final :\")  # Affiche un sous-titre pour le résultat\n",
    "    print_matrix(C)  # Affiche la matrice résultat\n",
    "    return C  # Retourne la matrice résultat\n",
    "\n",
    "def Projet_DIT():\n",
    "    \"\"\"Fonction principale demandée par l'énoncé.\"\"\"\n",
    "    matrice_stockee = None\n",
    "    \n",
    "    while True:\n",
    "        print(\"\\n=== Projet DIT : Calcul Matriciel ===\")\n",
    "        print(\"1 - Calculer la transposée d'une matrice\")\n",
    "        print(\"2 - Calculer le produit de deux matrices\")\n",
    "        print(\"3 - Quitter\")\n",
    "        choix = input(\"Votre choix (1-3) : \")\n",
    "        \n",
    "        if choix == \"1\":\n",
    "            if matrice_stockee is not None and input(\"Utiliser la matrice stockée ? (o/n) : \").lower() == 'o':\n",
    "                A = matrice_stockee\n",
    "            else:\n",
    "                A = saisir_matrix()\n",
    "                if A is None:\n",
    "                    continue\n",
    "            resultat = Transpose_matrix(A)\n",
    "            matrice_stockee = A\n",
    "            \n",
    "        elif choix == \"2\":\n",
    "            if matrice_stockee is not None and input(\"Utiliser la matrice stockée comme première matrice ? (o/n) : \").lower() == 'o':\n",
    "                A = matrice_stockee\n",
    "            else:\n",
    "                A = saisir_matrix()\n",
    "                if A is None:\n",
    "                    continue\n",
    "            B = saisir_matrix()\n",
    "            if B is None:\n",
    "                continue\n",
    "            resultat = Produit_matrix(A, B)\n",
    "            if resultat is not None:\n",
    "                matrice_stockee = resultat\n",
    "                \n",
    "        elif choix == \"3\":\n",
    "            print(\"\\nProgramme terminé. Merci d'avoir utilisé Projet DIT.\")\n",
    "            break\n",
    "            \n",
    "        else:\n",
    "            print(\"\\nChoix invalide. Veuillez sélectionner une option entre 1 et 3.\")\n",
    "\n",
    "if __name__ == \"__main__\":\n",
    "    print(\"Bienvenue dans le Projet DIT - Dakar Institute of Technology\")\n",
    "    Projet_DIT()"
   ]
  }
 ],
 "metadata": {
  "kernelspec": {
   "display_name": "Python 3 (ipykernel)",
   "language": "python",
   "name": "python3"
  },
  "language_info": {
   "codemirror_mode": {
    "name": "ipython",
    "version": 3
   },
   "file_extension": ".py",
   "mimetype": "text/x-python",
   "name": "python",
   "nbconvert_exporter": "python",
   "pygments_lexer": "ipython3",
   "version": "3.13.1"
  }
 },
 "nbformat": 4,
 "nbformat_minor": 5
}
